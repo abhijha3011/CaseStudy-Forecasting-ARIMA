{
 "cells": [
  {
   "cell_type": "markdown",
   "metadata": {},
   "source": [
    "Here, we created a Time series model by using ARIMA model and forecasted next 12 days amount."
   ]
  },
  {
   "cell_type": "code",
   "execution_count": 1,
   "metadata": {},
   "outputs": [],
   "source": [
    "#Importing library\n",
    "from pandas import read_csv\n",
    "from matplotlib import pyplot\n",
    "from numpy import sqrt\n",
    "import warnings\n",
    "import itertools\n",
    "import pandas as pd\n",
    "import numpy as np\n",
    "import matplotlib.pyplot as plt\n",
    "import statsmodels.api as sm\n",
    "import datetime\n",
    "import seaborn as sns"
   ]
  },
  {
   "cell_type": "code",
   "execution_count": 2,
   "metadata": {},
   "outputs": [
    {
     "data": {
      "text/html": [
       "<div>\n",
       "<style scoped>\n",
       "    .dataframe tbody tr th:only-of-type {\n",
       "        vertical-align: middle;\n",
       "    }\n",
       "\n",
       "    .dataframe tbody tr th {\n",
       "        vertical-align: top;\n",
       "    }\n",
       "\n",
       "    .dataframe thead th {\n",
       "        text-align: right;\n",
       "    }\n",
       "</style>\n",
       "<table border=\"1\" class=\"dataframe\">\n",
       "  <thead>\n",
       "    <tr style=\"text-align: right;\">\n",
       "      <th></th>\n",
       "      <th>amt</th>\n",
       "      <th>year.mon</th>\n",
       "      <th>log.amt</th>\n",
       "      <th>predicted</th>\n",
       "      <th>Lower.CI</th>\n",
       "      <th>Upper.CI</th>\n",
       "    </tr>\n",
       "  </thead>\n",
       "  <tbody>\n",
       "    <tr>\n",
       "      <th>0</th>\n",
       "      <td>4899994.07</td>\n",
       "      <td>2019-05-15</td>\n",
       "      <td>15.404745</td>\n",
       "      <td>15.399578</td>\n",
       "      <td>15.168875</td>\n",
       "      <td>15.630281</td>\n",
       "    </tr>\n",
       "    <tr>\n",
       "      <th>1</th>\n",
       "      <td>5045282.41</td>\n",
       "      <td>2019-06-15</td>\n",
       "      <td>15.433964</td>\n",
       "      <td>15.738545</td>\n",
       "      <td>15.507842</td>\n",
       "      <td>15.969247</td>\n",
       "    </tr>\n",
       "    <tr>\n",
       "      <th>2</th>\n",
       "      <td>5119488.47</td>\n",
       "      <td>2019-07-15</td>\n",
       "      <td>15.448565</td>\n",
       "      <td>15.551985</td>\n",
       "      <td>15.321283</td>\n",
       "      <td>15.782688</td>\n",
       "    </tr>\n",
       "    <tr>\n",
       "      <th>3</th>\n",
       "      <td>7540555.87</td>\n",
       "      <td>2019-08-15</td>\n",
       "      <td>15.835806</td>\n",
       "      <td>15.557470</td>\n",
       "      <td>15.326767</td>\n",
       "      <td>15.788172</td>\n",
       "    </tr>\n",
       "    <tr>\n",
       "      <th>4</th>\n",
       "      <td>7131339.01</td>\n",
       "      <td>2019-09-15</td>\n",
       "      <td>15.780010</td>\n",
       "      <td>15.794670</td>\n",
       "      <td>15.563968</td>\n",
       "      <td>16.025373</td>\n",
       "    </tr>\n",
       "  </tbody>\n",
       "</table>\n",
       "</div>"
      ],
      "text/plain": [
       "          amt   year.mon    log.amt  predicted   Lower.CI   Upper.CI\n",
       "0  4899994.07 2019-05-15  15.404745  15.399578  15.168875  15.630281\n",
       "1  5045282.41 2019-06-15  15.433964  15.738545  15.507842  15.969247\n",
       "2  5119488.47 2019-07-15  15.448565  15.551985  15.321283  15.782688\n",
       "3  7540555.87 2019-08-15  15.835806  15.557470  15.326767  15.788172\n",
       "4  7131339.01 2019-09-15  15.780010  15.794670  15.563968  16.025373"
      ]
     },
     "execution_count": 2,
     "metadata": {},
     "output_type": "execute_result"
    }
   ],
   "source": [
    "#Reading data and viewing top 5 records\n",
    "df=pd.read_excel('forecasting_data.xlsx')\n",
    "df.head()"
   ]
  },
  {
   "cell_type": "code",
   "execution_count": 3,
   "metadata": {},
   "outputs": [],
   "source": [
    "#Formating Date Correfctly\n",
    "formatted_df = df[\"year.mon\"].dt.strftime(\"%y-%m-%d\")\n",
    "intr = pd.to_datetime(formatted_df)\n",
    "df['year.mon'] = intr.dt.strftime(\"%b%y\")\n",
    "#df['year.mon']=pd.to_datetime(formatted_df.astype(str), format='%d-%m-%y')\n",
    "df.index=df['year.mon']\n",
    "df.drop(['year.mon'],axis=1,inplace =True)"
   ]
  },
  {
   "cell_type": "code",
   "execution_count": 4,
   "metadata": {},
   "outputs": [
    {
     "data": {
      "text/html": [
       "<div>\n",
       "<style scoped>\n",
       "    .dataframe tbody tr th:only-of-type {\n",
       "        vertical-align: middle;\n",
       "    }\n",
       "\n",
       "    .dataframe tbody tr th {\n",
       "        vertical-align: top;\n",
       "    }\n",
       "\n",
       "    .dataframe thead th {\n",
       "        text-align: right;\n",
       "    }\n",
       "</style>\n",
       "<table border=\"1\" class=\"dataframe\">\n",
       "  <thead>\n",
       "    <tr style=\"text-align: right;\">\n",
       "      <th></th>\n",
       "      <th>amt</th>\n",
       "      <th>log.amt</th>\n",
       "      <th>predicted</th>\n",
       "      <th>Lower.CI</th>\n",
       "      <th>Upper.CI</th>\n",
       "    </tr>\n",
       "    <tr>\n",
       "      <th>year.mon</th>\n",
       "      <th></th>\n",
       "      <th></th>\n",
       "      <th></th>\n",
       "      <th></th>\n",
       "      <th></th>\n",
       "    </tr>\n",
       "  </thead>\n",
       "  <tbody>\n",
       "    <tr>\n",
       "      <th>May15</th>\n",
       "      <td>4899994.07</td>\n",
       "      <td>15.404745</td>\n",
       "      <td>15.399578</td>\n",
       "      <td>15.168875</td>\n",
       "      <td>15.630281</td>\n",
       "    </tr>\n",
       "    <tr>\n",
       "      <th>Jun15</th>\n",
       "      <td>5045282.41</td>\n",
       "      <td>15.433964</td>\n",
       "      <td>15.738545</td>\n",
       "      <td>15.507842</td>\n",
       "      <td>15.969247</td>\n",
       "    </tr>\n",
       "    <tr>\n",
       "      <th>Jul15</th>\n",
       "      <td>5119488.47</td>\n",
       "      <td>15.448565</td>\n",
       "      <td>15.551985</td>\n",
       "      <td>15.321283</td>\n",
       "      <td>15.782688</td>\n",
       "    </tr>\n",
       "    <tr>\n",
       "      <th>Aug15</th>\n",
       "      <td>7540555.87</td>\n",
       "      <td>15.835806</td>\n",
       "      <td>15.557470</td>\n",
       "      <td>15.326767</td>\n",
       "      <td>15.788172</td>\n",
       "    </tr>\n",
       "    <tr>\n",
       "      <th>Sep15</th>\n",
       "      <td>7131339.01</td>\n",
       "      <td>15.780010</td>\n",
       "      <td>15.794670</td>\n",
       "      <td>15.563968</td>\n",
       "      <td>16.025373</td>\n",
       "    </tr>\n",
       "  </tbody>\n",
       "</table>\n",
       "</div>"
      ],
      "text/plain": [
       "                 amt    log.amt  predicted   Lower.CI   Upper.CI\n",
       "year.mon                                                        \n",
       "May15     4899994.07  15.404745  15.399578  15.168875  15.630281\n",
       "Jun15     5045282.41  15.433964  15.738545  15.507842  15.969247\n",
       "Jul15     5119488.47  15.448565  15.551985  15.321283  15.782688\n",
       "Aug15     7540555.87  15.835806  15.557470  15.326767  15.788172\n",
       "Sep15     7131339.01  15.780010  15.794670  15.563968  16.025373"
      ]
     },
     "execution_count": 4,
     "metadata": {},
     "output_type": "execute_result"
    }
   ],
   "source": [
    "df.head()"
   ]
  },
  {
   "cell_type": "code",
   "execution_count": 5,
   "metadata": {},
   "outputs": [
    {
     "data": {
      "text/html": [
       "<div>\n",
       "<style scoped>\n",
       "    .dataframe tbody tr th:only-of-type {\n",
       "        vertical-align: middle;\n",
       "    }\n",
       "\n",
       "    .dataframe tbody tr th {\n",
       "        vertical-align: top;\n",
       "    }\n",
       "\n",
       "    .dataframe thead th {\n",
       "        text-align: right;\n",
       "    }\n",
       "</style>\n",
       "<table border=\"1\" class=\"dataframe\">\n",
       "  <thead>\n",
       "    <tr style=\"text-align: right;\">\n",
       "      <th></th>\n",
       "      <th>amt</th>\n",
       "      <th>log.amt</th>\n",
       "      <th>predicted</th>\n",
       "      <th>Lower.CI</th>\n",
       "      <th>Upper.CI</th>\n",
       "    </tr>\n",
       "    <tr>\n",
       "      <th>year.mon</th>\n",
       "      <th></th>\n",
       "      <th></th>\n",
       "      <th></th>\n",
       "      <th></th>\n",
       "      <th></th>\n",
       "    </tr>\n",
       "  </thead>\n",
       "  <tbody>\n",
       "    <tr>\n",
       "      <th>Nov18</th>\n",
       "      <td>NaN</td>\n",
       "      <td>NaN</td>\n",
       "      <td>15.972830</td>\n",
       "      <td>15.704486</td>\n",
       "      <td>16.241174</td>\n",
       "    </tr>\n",
       "    <tr>\n",
       "      <th>Dec18</th>\n",
       "      <td>NaN</td>\n",
       "      <td>NaN</td>\n",
       "      <td>16.064043</td>\n",
       "      <td>15.795699</td>\n",
       "      <td>16.332387</td>\n",
       "    </tr>\n",
       "    <tr>\n",
       "      <th>Jan19</th>\n",
       "      <td>NaN</td>\n",
       "      <td>NaN</td>\n",
       "      <td>16.314175</td>\n",
       "      <td>16.045830</td>\n",
       "      <td>16.582519</td>\n",
       "    </tr>\n",
       "    <tr>\n",
       "      <th>Feb19</th>\n",
       "      <td>NaN</td>\n",
       "      <td>NaN</td>\n",
       "      <td>15.885444</td>\n",
       "      <td>15.617100</td>\n",
       "      <td>16.153788</td>\n",
       "    </tr>\n",
       "    <tr>\n",
       "      <th>Mar19</th>\n",
       "      <td>NaN</td>\n",
       "      <td>NaN</td>\n",
       "      <td>15.898732</td>\n",
       "      <td>15.630388</td>\n",
       "      <td>16.167076</td>\n",
       "    </tr>\n",
       "  </tbody>\n",
       "</table>\n",
       "</div>"
      ],
      "text/plain": [
       "          amt  log.amt  predicted   Lower.CI   Upper.CI\n",
       "year.mon                                               \n",
       "Nov18     NaN      NaN  15.972830  15.704486  16.241174\n",
       "Dec18     NaN      NaN  16.064043  15.795699  16.332387\n",
       "Jan19     NaN      NaN  16.314175  16.045830  16.582519\n",
       "Feb19     NaN      NaN  15.885444  15.617100  16.153788\n",
       "Mar19     NaN      NaN  15.898732  15.630388  16.167076"
      ]
     },
     "execution_count": 5,
     "metadata": {},
     "output_type": "execute_result"
    }
   ],
   "source": [
    "#Here. in amt and log.amt having NAN value,which needs to be deleted from the orizinal DF. Latter on we will forecast these value\n",
    "df.tail()"
   ]
  },
  {
   "cell_type": "code",
   "execution_count": 6,
   "metadata": {},
   "outputs": [
    {
     "data": {
      "text/html": [
       "<div>\n",
       "<style scoped>\n",
       "    .dataframe tbody tr th:only-of-type {\n",
       "        vertical-align: middle;\n",
       "    }\n",
       "\n",
       "    .dataframe tbody tr th {\n",
       "        vertical-align: top;\n",
       "    }\n",
       "\n",
       "    .dataframe thead th {\n",
       "        text-align: right;\n",
       "    }\n",
       "</style>\n",
       "<table border=\"1\" class=\"dataframe\">\n",
       "  <thead>\n",
       "    <tr style=\"text-align: right;\">\n",
       "      <th></th>\n",
       "      <th>amt</th>\n",
       "      <th>log.amt</th>\n",
       "    </tr>\n",
       "    <tr>\n",
       "      <th>year.mon</th>\n",
       "      <th></th>\n",
       "      <th></th>\n",
       "    </tr>\n",
       "  </thead>\n",
       "  <tbody>\n",
       "    <tr>\n",
       "      <th>May15</th>\n",
       "      <td>4899994.07</td>\n",
       "      <td>15.404745</td>\n",
       "    </tr>\n",
       "    <tr>\n",
       "      <th>Jun15</th>\n",
       "      <td>5045282.41</td>\n",
       "      <td>15.433964</td>\n",
       "    </tr>\n",
       "    <tr>\n",
       "      <th>Jul15</th>\n",
       "      <td>5119488.47</td>\n",
       "      <td>15.448565</td>\n",
       "    </tr>\n",
       "    <tr>\n",
       "      <th>Aug15</th>\n",
       "      <td>7540555.87</td>\n",
       "      <td>15.835806</td>\n",
       "    </tr>\n",
       "    <tr>\n",
       "      <th>Sep15</th>\n",
       "      <td>7131339.01</td>\n",
       "      <td>15.780010</td>\n",
       "    </tr>\n",
       "  </tbody>\n",
       "</table>\n",
       "</div>"
      ],
      "text/plain": [
       "                 amt    log.amt\n",
       "year.mon                       \n",
       "May15     4899994.07  15.404745\n",
       "Jun15     5045282.41  15.433964\n",
       "Jul15     5119488.47  15.448565\n",
       "Aug15     7540555.87  15.835806\n",
       "Sep15     7131339.01  15.780010"
      ]
     },
     "execution_count": 6,
     "metadata": {},
     "output_type": "execute_result"
    }
   ],
   "source": [
    "## Cleaning up the data and taking important attribute\n",
    "df_new = df.iloc[:,0:2]\n",
    "df_new.head()"
   ]
  },
  {
   "cell_type": "code",
   "execution_count": 7,
   "metadata": {},
   "outputs": [
    {
     "name": "stderr",
     "output_type": "stream",
     "text": [
      "C:\\Users\\ajha48\\Anaconda3\\lib\\site-packages\\pandas\\core\\frame.py:3990: SettingWithCopyWarning: \n",
      "A value is trying to be set on a copy of a slice from a DataFrame\n",
      "\n",
      "See the caveats in the documentation: https://pandas.pydata.org/pandas-docs/stable/user_guide/indexing.html#returning-a-view-versus-a-copy\n",
      "  return super().drop(\n"
     ]
    },
    {
     "data": {
      "text/html": [
       "<div>\n",
       "<style scoped>\n",
       "    .dataframe tbody tr th:only-of-type {\n",
       "        vertical-align: middle;\n",
       "    }\n",
       "\n",
       "    .dataframe tbody tr th {\n",
       "        vertical-align: top;\n",
       "    }\n",
       "\n",
       "    .dataframe thead th {\n",
       "        text-align: right;\n",
       "    }\n",
       "</style>\n",
       "<table border=\"1\" class=\"dataframe\">\n",
       "  <thead>\n",
       "    <tr style=\"text-align: right;\">\n",
       "      <th></th>\n",
       "      <th>log.amt</th>\n",
       "    </tr>\n",
       "    <tr>\n",
       "      <th>year.mon</th>\n",
       "      <th></th>\n",
       "    </tr>\n",
       "  </thead>\n",
       "  <tbody>\n",
       "    <tr>\n",
       "      <th>May15</th>\n",
       "      <td>15.404745</td>\n",
       "    </tr>\n",
       "    <tr>\n",
       "      <th>Jun15</th>\n",
       "      <td>15.433964</td>\n",
       "    </tr>\n",
       "    <tr>\n",
       "      <th>Jul15</th>\n",
       "      <td>15.448565</td>\n",
       "    </tr>\n",
       "    <tr>\n",
       "      <th>Aug15</th>\n",
       "      <td>15.835806</td>\n",
       "    </tr>\n",
       "    <tr>\n",
       "      <th>Sep15</th>\n",
       "      <td>15.780010</td>\n",
       "    </tr>\n",
       "  </tbody>\n",
       "</table>\n",
       "</div>"
      ],
      "text/plain": [
       "            log.amt\n",
       "year.mon           \n",
       "May15     15.404745\n",
       "Jun15     15.433964\n",
       "Jul15     15.448565\n",
       "Aug15     15.835806\n",
       "Sep15     15.780010"
      ]
     },
     "execution_count": 7,
     "metadata": {},
     "output_type": "execute_result"
    }
   ],
   "source": [
    "df_new.drop(columns='amt',axis=1,inplace=True)\n",
    "df_new.head()"
   ]
  },
  {
   "cell_type": "code",
   "execution_count": 8,
   "metadata": {},
   "outputs": [
    {
     "data": {
      "text/html": [
       "<div>\n",
       "<style scoped>\n",
       "    .dataframe tbody tr th:only-of-type {\n",
       "        vertical-align: middle;\n",
       "    }\n",
       "\n",
       "    .dataframe tbody tr th {\n",
       "        vertical-align: top;\n",
       "    }\n",
       "\n",
       "    .dataframe thead th {\n",
       "        text-align: right;\n",
       "    }\n",
       "</style>\n",
       "<table border=\"1\" class=\"dataframe\">\n",
       "  <thead>\n",
       "    <tr style=\"text-align: right;\">\n",
       "      <th></th>\n",
       "      <th>log.amt</th>\n",
       "    </tr>\n",
       "    <tr>\n",
       "      <th>year.mon</th>\n",
       "      <th></th>\n",
       "    </tr>\n",
       "  </thead>\n",
       "  <tbody>\n",
       "    <tr>\n",
       "      <th>Jan18</th>\n",
       "      <td>16.402776</td>\n",
       "    </tr>\n",
       "    <tr>\n",
       "      <th>Feb18</th>\n",
       "      <td>15.684375</td>\n",
       "    </tr>\n",
       "    <tr>\n",
       "      <th>Mar18</th>\n",
       "      <td>15.782678</td>\n",
       "    </tr>\n",
       "    <tr>\n",
       "      <th>Apr18</th>\n",
       "      <td>NaN</td>\n",
       "    </tr>\n",
       "    <tr>\n",
       "      <th>May18</th>\n",
       "      <td>NaN</td>\n",
       "    </tr>\n",
       "    <tr>\n",
       "      <th>Jun18</th>\n",
       "      <td>NaN</td>\n",
       "    </tr>\n",
       "    <tr>\n",
       "      <th>Jul18</th>\n",
       "      <td>NaN</td>\n",
       "    </tr>\n",
       "    <tr>\n",
       "      <th>Aug18</th>\n",
       "      <td>NaN</td>\n",
       "    </tr>\n",
       "    <tr>\n",
       "      <th>Sep18</th>\n",
       "      <td>NaN</td>\n",
       "    </tr>\n",
       "    <tr>\n",
       "      <th>Oct18</th>\n",
       "      <td>NaN</td>\n",
       "    </tr>\n",
       "    <tr>\n",
       "      <th>Nov18</th>\n",
       "      <td>NaN</td>\n",
       "    </tr>\n",
       "    <tr>\n",
       "      <th>Dec18</th>\n",
       "      <td>NaN</td>\n",
       "    </tr>\n",
       "    <tr>\n",
       "      <th>Jan19</th>\n",
       "      <td>NaN</td>\n",
       "    </tr>\n",
       "    <tr>\n",
       "      <th>Feb19</th>\n",
       "      <td>NaN</td>\n",
       "    </tr>\n",
       "    <tr>\n",
       "      <th>Mar19</th>\n",
       "      <td>NaN</td>\n",
       "    </tr>\n",
       "  </tbody>\n",
       "</table>\n",
       "</div>"
      ],
      "text/plain": [
       "            log.amt\n",
       "year.mon           \n",
       "Jan18     16.402776\n",
       "Feb18     15.684375\n",
       "Mar18     15.782678\n",
       "Apr18           NaN\n",
       "May18           NaN\n",
       "Jun18           NaN\n",
       "Jul18           NaN\n",
       "Aug18           NaN\n",
       "Sep18           NaN\n",
       "Oct18           NaN\n",
       "Nov18           NaN\n",
       "Dec18           NaN\n",
       "Jan19           NaN\n",
       "Feb19           NaN\n",
       "Mar19           NaN"
      ]
     },
     "execution_count": 8,
     "metadata": {},
     "output_type": "execute_result"
    }
   ],
   "source": [
    "df_new.tail(15)"
   ]
  },
  {
   "cell_type": "code",
   "execution_count": 9,
   "metadata": {},
   "outputs": [
    {
     "name": "stderr",
     "output_type": "stream",
     "text": [
      "C:\\Users\\ajha48\\Anaconda3\\lib\\site-packages\\pandas\\core\\frame.py:3990: SettingWithCopyWarning: \n",
      "A value is trying to be set on a copy of a slice from a DataFrame\n",
      "\n",
      "See the caveats in the documentation: https://pandas.pydata.org/pandas-docs/stable/user_guide/indexing.html#returning-a-view-versus-a-copy\n",
      "  return super().drop(\n"
     ]
    },
    {
     "data": {
      "text/html": [
       "<div>\n",
       "<style scoped>\n",
       "    .dataframe tbody tr th:only-of-type {\n",
       "        vertical-align: middle;\n",
       "    }\n",
       "\n",
       "    .dataframe tbody tr th {\n",
       "        vertical-align: top;\n",
       "    }\n",
       "\n",
       "    .dataframe thead th {\n",
       "        text-align: right;\n",
       "    }\n",
       "</style>\n",
       "<table border=\"1\" class=\"dataframe\">\n",
       "  <thead>\n",
       "    <tr style=\"text-align: right;\">\n",
       "      <th></th>\n",
       "      <th>log.amt</th>\n",
       "    </tr>\n",
       "    <tr>\n",
       "      <th>year.mon</th>\n",
       "      <th></th>\n",
       "    </tr>\n",
       "  </thead>\n",
       "  <tbody>\n",
       "    <tr>\n",
       "      <th>Nov17</th>\n",
       "      <td>16.045277</td>\n",
       "    </tr>\n",
       "    <tr>\n",
       "      <th>Dec17</th>\n",
       "      <td>16.012664</td>\n",
       "    </tr>\n",
       "    <tr>\n",
       "      <th>Jan18</th>\n",
       "      <td>16.402776</td>\n",
       "    </tr>\n",
       "    <tr>\n",
       "      <th>Feb18</th>\n",
       "      <td>15.684375</td>\n",
       "    </tr>\n",
       "    <tr>\n",
       "      <th>Mar18</th>\n",
       "      <td>15.782678</td>\n",
       "    </tr>\n",
       "  </tbody>\n",
       "</table>\n",
       "</div>"
      ],
      "text/plain": [
       "            log.amt\n",
       "year.mon           \n",
       "Nov17     16.045277\n",
       "Dec17     16.012664\n",
       "Jan18     16.402776\n",
       "Feb18     15.684375\n",
       "Mar18     15.782678"
      ]
     },
     "execution_count": 9,
     "metadata": {},
     "output_type": "execute_result"
    }
   ],
   "source": [
    "## Drop last 12 records\n",
    "df_new.drop(df_new.tail(12).index, inplace = True)\n",
    "#df.replace(to_replace = np.nan, value = 0,inplace = True)\n",
    "df_new.tail()"
   ]
  },
  {
   "cell_type": "code",
   "execution_count": 10,
   "metadata": {},
   "outputs": [
    {
     "data": {
      "text/plain": [
       "(35, 1)"
      ]
     },
     "execution_count": 10,
     "metadata": {},
     "output_type": "execute_result"
    }
   ],
   "source": [
    "df_new.shape"
   ]
  },
  {
   "cell_type": "code",
   "execution_count": 11,
   "metadata": {},
   "outputs": [
    {
     "name": "stdout",
     "output_type": "stream",
     "text": [
      "<class 'pandas.core.frame.DataFrame'>\n",
      "Index: 35 entries, May15 to Mar18\n",
      "Data columns (total 1 columns):\n",
      " #   Column   Non-Null Count  Dtype  \n",
      "---  ------   --------------  -----  \n",
      " 0   log.amt  35 non-null     float64\n",
      "dtypes: float64(1)\n",
      "memory usage: 560.0+ bytes\n"
     ]
    }
   ],
   "source": [
    "df_new.info()"
   ]
  },
  {
   "cell_type": "code",
   "execution_count": 12,
   "metadata": {},
   "outputs": [
    {
     "data": {
      "text/html": [
       "<div>\n",
       "<style scoped>\n",
       "    .dataframe tbody tr th:only-of-type {\n",
       "        vertical-align: middle;\n",
       "    }\n",
       "\n",
       "    .dataframe tbody tr th {\n",
       "        vertical-align: top;\n",
       "    }\n",
       "\n",
       "    .dataframe thead th {\n",
       "        text-align: right;\n",
       "    }\n",
       "</style>\n",
       "<table border=\"1\" class=\"dataframe\">\n",
       "  <thead>\n",
       "    <tr style=\"text-align: right;\">\n",
       "      <th></th>\n",
       "      <th>log.amt</th>\n",
       "    </tr>\n",
       "  </thead>\n",
       "  <tbody>\n",
       "    <tr>\n",
       "      <th>count</th>\n",
       "      <td>35.000000</td>\n",
       "    </tr>\n",
       "    <tr>\n",
       "      <th>mean</th>\n",
       "      <td>15.783444</td>\n",
       "    </tr>\n",
       "    <tr>\n",
       "      <th>std</th>\n",
       "      <td>0.250795</td>\n",
       "    </tr>\n",
       "    <tr>\n",
       "      <th>min</th>\n",
       "      <td>15.213426</td>\n",
       "    </tr>\n",
       "    <tr>\n",
       "      <th>25%</th>\n",
       "      <td>15.659774</td>\n",
       "    </tr>\n",
       "    <tr>\n",
       "      <th>50%</th>\n",
       "      <td>15.780104</td>\n",
       "    </tr>\n",
       "    <tr>\n",
       "      <th>75%</th>\n",
       "      <td>15.983524</td>\n",
       "    </tr>\n",
       "    <tr>\n",
       "      <th>max</th>\n",
       "      <td>16.402776</td>\n",
       "    </tr>\n",
       "  </tbody>\n",
       "</table>\n",
       "</div>"
      ],
      "text/plain": [
       "         log.amt\n",
       "count  35.000000\n",
       "mean   15.783444\n",
       "std     0.250795\n",
       "min    15.213426\n",
       "25%    15.659774\n",
       "50%    15.780104\n",
       "75%    15.983524\n",
       "max    16.402776"
      ]
     },
     "execution_count": 12,
     "metadata": {},
     "output_type": "execute_result"
    }
   ],
   "source": [
    "df_new.describe()"
   ]
  },
  {
   "cell_type": "code",
   "execution_count": 13,
   "metadata": {},
   "outputs": [
    {
     "data": {
      "image/png": "[encoded data removed]",
      "text/plain": [
       "<Figure size 792x432 with 1 Axes>"
      ]
     },
     "metadata": {
      "needs_background": "light"
     },
     "output_type": "display_data"
    }
   ],
   "source": [
    "#df.plot(figsize=(12,8))\n",
    "# line plot of time series\n",
    "from pandas import read_csv\n",
    "from matplotlib import pyplot\n",
    "df_new.plot(figsize=(11,6), use_index=True,title='First look of the Actual Amount log Data',colormap='RdYlBu_r')\n",
    "pyplot.show()"
   ]
  },
  {
   "cell_type": "code",
   "execution_count": 14,
   "metadata": {},
   "outputs": [
    {
     "data": {
      "text/plain": [
       "(-5.0923705920896545,\n",
       " 1.4522752029677542e-05,\n",
       " 0,\n",
       " 34,\n",
       " {'1%': -3.639224104416853,\n",
       "  '5%': -2.9512301791166293,\n",
       "  '10%': -2.614446989619377},\n",
       " 6.515456736496212)"
      ]
     },
     "execution_count": 14,
     "metadata": {},
     "output_type": "execute_result"
    }
   ],
   "source": [
    "### Testing For Stationarity\n",
    "from statsmodels.tsa.stattools import adfuller\n",
    "test_result=adfuller(df_new['log.amt'])\n",
    "test_result"
   ]
  },
  {
   "cell_type": "code",
   "execution_count": 15,
   "metadata": {},
   "outputs": [],
   "source": [
    "#Ho: It is non stationary\n",
    "#H1: It is stationary\n",
    "\n",
    "def adfuller_test(log_amt):\n",
    "    result=adfuller(log_amt)\n",
    "    labels = ['ADF Test Statistic','p-value','#Lags Used','Number of Observations Used']\n",
    "    for value,label in zip(result,labels):\n",
    "        print(label+' : '+str(value) )\n",
    "    if result[1] <= 0.05:\n",
    "        print(\"strong evidence against the null hypothesis(Ho), reject the null hypothesis. Data has no unit root and is stationary\")\n",
    "    else:\n",
    "        print(\"weak evidence against null hypothesis, time series has a unit root, indicating it is non-stationary \")\n",
    "    "
   ]
  },
  {
   "cell_type": "code",
   "execution_count": 16,
   "metadata": {},
   "outputs": [
    {
     "name": "stdout",
     "output_type": "stream",
     "text": [
      "ADF Test Statistic : -5.0923705920896545\n",
      "p-value : 1.4522752029677542e-05\n",
      "#Lags Used : 0\n",
      "Number of Observations Used : 34\n",
      "strong evidence against the null hypothesis(Ho), reject the null hypothesis. Data has no unit root and is stationary\n"
     ]
    }
   ],
   "source": [
    "adfuller_test(df_new['log.amt'])"
   ]
  },
  {
   "cell_type": "code",
   "execution_count": 17,
   "metadata": {},
   "outputs": [
    {
     "data": {
      "image/png": "[encoded data removed]",
      "text/plain": [
       "<Figure size 432x288 with 1 Axes>"
      ]
     },
     "metadata": {
      "needs_background": "light"
     },
     "output_type": "display_data"
    }
   ],
   "source": [
    "#AR Model\n",
    "from pandas.plotting import autocorrelation_plot\n",
    "autocorrelation_plot(df_new['log.amt'])\n",
    "plt.show()"
   ]
  },
  {
   "cell_type": "code",
   "execution_count": 18,
   "metadata": {},
   "outputs": [
    {
     "data": {
      "image/png": "[encoded data removed]",
      "text/plain": [
       "<Figure size 864x576 with 2 Axes>"
      ]
     },
     "metadata": {
      "needs_background": "light"
     },
     "output_type": "display_data"
    }
   ],
   "source": [
    "import statsmodels.api as sm\n",
    "from statsmodels.graphics.tsaplots import plot_acf\n",
    "from statsmodels.graphics.tsaplots import plot_pacf\n",
    "from matplotlib import pyplot\n",
    "pyplot.figure(figsize=(12,8))\n",
    "pyplot.subplot(211)\n",
    "plot_acf(df_new['log.amt'], ax=pyplot.gca())\n",
    "pyplot.subplot(212)\n",
    "plot_pacf(df_new['log.amt'], ax=pyplot.gca())\n",
    "pyplot.show()"
   ]
  },
  {
   "cell_type": "code",
   "execution_count": 19,
   "metadata": {},
   "outputs": [
    {
     "data": {
      "text/plain": [
       "array([[<matplotlib.axes._subplots.AxesSubplot object at 0x0000017D69D2B4C0>]],\n",
       "      dtype=object)"
      ]
     },
     "execution_count": 19,
     "metadata": {},
     "output_type": "execute_result"
    },
    {
     "data": {
      "image/png": "[encoded data removed]",
      "text/plain": [
       "<Figure size 432x288 with 1 Axes>"
      ]
     },
     "metadata": {
      "needs_background": "light"
     },
     "output_type": "display_data"
    }
   ],
   "source": [
    "df_new.hist()"
   ]
  },
  {
   "cell_type": "code",
   "execution_count": 20,
   "metadata": {},
   "outputs": [
    {
     "data": {
      "text/plain": [
       "<matplotlib.axes._subplots.AxesSubplot at 0x17d6a1b2a60>"
      ]
     },
     "execution_count": 20,
     "metadata": {},
     "output_type": "execute_result"
    },
    {
     "data": {
      "image/png": "[encoded data removed]",
      "text/plain": [
       "<Figure size 432x288 with 1 Axes>"
      ]
     },
     "metadata": {
      "needs_background": "light"
     },
     "output_type": "display_data"
    }
   ],
   "source": [
    "df_new.plot(kind='kde')"
   ]
  },
  {
   "cell_type": "code",
   "execution_count": 21,
   "metadata": {},
   "outputs": [
    {
     "name": "stdout",
     "output_type": "stream",
     "text": [
      "Dataset 25, Validation 10\n"
     ]
    }
   ],
   "source": [
    "# separate out a validation dataset\n",
    "split_point = len(df_new) - 10\n",
    "dataset, validation = df_new[0:split_point], df_new[split_point:]\n",
    "print('Dataset %d, Validation %d' % (len(dataset), len(validation)))\n",
    "dataset.to_csv('dataset.csv', header=False)\n",
    "validation.to_csv('validation.csv', header=False)"
   ]
  },
  {
   "cell_type": "code",
   "execution_count": 22,
   "metadata": {},
   "outputs": [],
   "source": [
    "# evaluate a persistence model\n",
    "from pandas import read_csv\n",
    "from sklearn.metrics import mean_squared_error\n",
    "from math import sqrt\n",
    "# load data\n",
    "train = read_csv('dataset.csv', header=None, index_col=0, parse_dates=True, squeeze=True)\n",
    "# prepare data\n",
    "X = train.values\n",
    "X = X.astype('float32')\n",
    "train_size = int(len(X) * 0.50)\n",
    "train, test = X[0:train_size], X[train_size:]"
   ]
  },
  {
   "cell_type": "code",
   "execution_count": 23,
   "metadata": {},
   "outputs": [
    {
     "name": "stdout",
     "output_type": "stream",
     "text": [
      ">Predicted=15.752, Expected=15.213\n",
      ">Predicted=15.213, Expected=16.075\n",
      ">Predicted=16.075, Expected=15.551\n",
      ">Predicted=15.551, Expected=15.458\n",
      ">Predicted=15.458, Expected=15.983\n",
      ">Predicted=15.983, Expected=15.538\n",
      ">Predicted=15.538, Expected=15.642\n",
      ">Predicted=15.642, Expected=16.080\n",
      ">Predicted=16.080, Expected=16.204\n",
      ">Predicted=16.204, Expected=15.737\n",
      ">Predicted=15.737, Expected=15.827\n",
      ">Predicted=15.827, Expected=15.785\n",
      ">Predicted=15.785, Expected=15.704\n",
      "RMSE: 0.415\n"
     ]
    }
   ],
   "source": [
    "# walk-forward validation\n",
    "history = [x for x in train]\n",
    "predictions = list()\n",
    "for i in range(len(test)):\n",
    "    yhat = history[-1]\n",
    "    predictions.append(yhat)\n",
    "# observation\n",
    "    obs = test[i]\n",
    "    history.append(obs)\n",
    "    print('>Predicted=%.3f, Expected=%.3f' % (yhat, obs))\n",
    "# report performance\n",
    "rmse = sqrt(mean_squared_error(test, predictions))\n",
    "print('RMSE: %.3f' % rmse)"
   ]
  },
  {
   "cell_type": "code",
   "execution_count": 24,
   "metadata": {},
   "outputs": [],
   "source": [
    "#Model Building on Train Data\n",
    "from statsmodels.tsa.arima_model import ARIMA\n",
    "# load data\n",
    "train = read_csv('dataset.csv', header=0, index_col=0, parse_dates=True)\n",
    "# prepare data\n",
    "X = train.values\n",
    "X = X.astype('float32')"
   ]
  },
  {
   "cell_type": "code",
   "execution_count": 25,
   "metadata": {},
   "outputs": [
    {
     "data": {
      "image/png": "[encoded data removed]",
      "text/plain": [
       "<Figure size 432x288 with 1 Axes>"
      ]
     },
     "execution_count": 25,
     "metadata": {},
     "output_type": "execute_result"
    },
    {
     "data": {
      "image/png": "[encoded data removed]",
      "text/plain": [
       "<Figure size 432x288 with 1 Axes>"
      ]
     },
     "metadata": {
      "needs_background": "light"
     },
     "output_type": "display_data"
    }
   ],
   "source": [
    "# fit model\n",
    "model = ARIMA(X, order=(5,0,1))\n",
    "model_fit = model.fit()\n",
    "forecast=model_fit.forecast(steps=10)[0]\n",
    "model_fit.plot_predict(1,35)"
   ]
  },
  {
   "cell_type": "code",
   "execution_count": 26,
   "metadata": {},
   "outputs": [
    {
     "data": {
      "text/plain": [
       "0.2183859822728724"
      ]
     },
     "execution_count": 26,
     "metadata": {},
     "output_type": "execute_result"
    }
   ],
   "source": [
    "#Error on the test data\n",
    "val=pd.read_csv('validation.csv',header=None)\n",
    "rmse = sqrt(mean_squared_error(val[1], forecast))\n",
    "rmse"
   ]
  },
  {
   "cell_type": "markdown",
   "metadata": {},
   "source": [
    "Buliding Final Model(Train+Test) on 'df_new' which contains 35 in sample records"
   ]
  },
  {
   "cell_type": "code",
   "execution_count": 27,
   "metadata": {},
   "outputs": [
    {
     "name": "stderr",
     "output_type": "stream",
     "text": [
      "C:\\Users\\ajha48\\Anaconda3\\lib\\site-packages\\statsmodels\\tsa\\base\\tsa_model.py:213: ValueWarning: An unsupported index was provided and will be ignored when e.g. forecasting.\n",
      "  warnings.warn('An unsupported index was provided and will be'\n"
     ]
    },
    {
     "name": "stdout",
     "output_type": "stream",
     "text": [
      "                              ARMA Model Results                              \n",
      "==============================================================================\n",
      "Dep. Variable:                log.amt   No. Observations:                   35\n",
      "Model:                     ARMA(9, 1)   Log Likelihood                   8.634\n",
      "Method:                       css-mle   S.D. of innovations              0.176\n",
      "Date:                Mon, 17 May 2021   AIC                              6.731\n",
      "Time:                        13:09:03   BIC                             25.395\n",
      "Sample:                             0   HQIC                            13.174\n",
      "                                                                              \n",
      "=================================================================================\n",
      "                    coef    std err          z      P>|z|      [0.025      0.975]\n",
      "---------------------------------------------------------------------------------\n",
      "const            15.7879      0.012   1371.505      0.000      15.765      15.811\n",
      "ar.L1.log.amt    -0.6289      0.548     -1.148      0.251      -1.702       0.445\n",
      "ar.L2.log.amt    -0.1034      0.162     -0.636      0.524      -0.422       0.215\n",
      "ar.L3.log.amt    -0.1099      0.168     -0.654      0.513      -0.439       0.220\n",
      "ar.L4.log.amt    -0.4777      0.174     -2.742      0.006      -0.819      -0.136\n",
      "ar.L5.log.amt    -0.4549      0.263     -1.729      0.084      -0.971       0.061\n",
      "ar.L6.log.amt    -0.2150      0.184     -1.167      0.243      -0.576       0.146\n",
      "ar.L7.log.amt    -0.2414      0.183     -1.316      0.188      -0.601       0.118\n",
      "ar.L8.log.amt    -0.6168      0.166     -3.720      0.000      -0.942      -0.292\n",
      "ar.L9.log.amt    -0.5245      0.259     -2.028      0.043      -1.031      -0.018\n",
      "ma.L1.log.amt     0.4872      0.656      0.743      0.457      -0.798       1.772\n",
      "                                    Roots                                    \n",
      "=============================================================================\n",
      "                  Real          Imaginary           Modulus         Frequency\n",
      "-----------------------------------------------------------------------------\n",
      "AR.1            0.8875           -0.4949j            1.0162           -0.0810\n",
      "AR.2            0.8875           +0.4949j            1.0162            0.0810\n",
      "AR.3            0.4623           -0.9688j            1.0735           -0.1791\n",
      "AR.4            0.4623           +0.9688j            1.0735            0.1791\n",
      "AR.5           -0.4303           -0.9795j            1.0698           -0.3159\n",
      "AR.6           -0.4303           +0.9795j            1.0698            0.3159\n",
      "AR.7           -0.9258           -0.5885j            1.0970           -0.4099\n",
      "AR.8           -0.9258           +0.5885j            1.0970            0.4099\n",
      "AR.9           -1.1633           -0.0000j            1.1633           -0.5000\n",
      "MA.1           -2.0525           +0.0000j            2.0525            0.5000\n",
      "-----------------------------------------------------------------------------\n"
     ]
    }
   ],
   "source": [
    "# fit model\n",
    "model=ARIMA(df_new['log.amt'],order=(9,0,1))\n",
    "model_fit = model.fit()\n",
    "print(model_fit.summary())\n",
    "#df_new['Predicted_in']= model_fit.predict()\n",
    "#df_new['Predicted']=model_fit.forecast()\n",
    "#model_fit.plot_predict(1, 46)"
   ]
  },
  {
   "cell_type": "code",
   "execution_count": 28,
   "metadata": {},
   "outputs": [
    {
     "data": {
      "text/html": [
       "<div>\n",
       "<style scoped>\n",
       "    .dataframe tbody tr th:only-of-type {\n",
       "        vertical-align: middle;\n",
       "    }\n",
       "\n",
       "    .dataframe tbody tr th {\n",
       "        vertical-align: top;\n",
       "    }\n",
       "\n",
       "    .dataframe thead th {\n",
       "        text-align: right;\n",
       "    }\n",
       "</style>\n",
       "<table border=\"1\" class=\"dataframe\">\n",
       "  <thead>\n",
       "    <tr style=\"text-align: right;\">\n",
       "      <th></th>\n",
       "      <th>log.amt</th>\n",
       "    </tr>\n",
       "    <tr>\n",
       "      <th>year.mon</th>\n",
       "      <th></th>\n",
       "    </tr>\n",
       "  </thead>\n",
       "  <tbody>\n",
       "    <tr>\n",
       "      <th>May15</th>\n",
       "      <td>15.404745</td>\n",
       "    </tr>\n",
       "    <tr>\n",
       "      <th>Jun15</th>\n",
       "      <td>15.433964</td>\n",
       "    </tr>\n",
       "    <tr>\n",
       "      <th>Jul15</th>\n",
       "      <td>15.448565</td>\n",
       "    </tr>\n",
       "    <tr>\n",
       "      <th>Aug15</th>\n",
       "      <td>15.835806</td>\n",
       "    </tr>\n",
       "    <tr>\n",
       "      <th>Sep15</th>\n",
       "      <td>15.780010</td>\n",
       "    </tr>\n",
       "  </tbody>\n",
       "</table>\n",
       "</div>"
      ],
      "text/plain": [
       "            log.amt\n",
       "year.mon           \n",
       "May15     15.404745\n",
       "Jun15     15.433964\n",
       "Jul15     15.448565\n",
       "Aug15     15.835806\n",
       "Sep15     15.780010"
      ]
     },
     "execution_count": 28,
     "metadata": {},
     "output_type": "execute_result"
    }
   ],
   "source": [
    "df_new.head()"
   ]
  },
  {
   "cell_type": "code",
   "execution_count": 29,
   "metadata": {},
   "outputs": [
    {
     "name": "stderr",
     "output_type": "stream",
     "text": [
      "C:\\Users\\ajha48\\Anaconda3\\lib\\site-packages\\statsmodels\\tsa\\base\\tsa_model.py:580: ValueWarning: No supported index is available. Prediction results will be given with an integer index beginning at `start`.\n",
      "  warnings.warn('No supported index is available.'\n",
      "C:\\Users\\ajha48\\Anaconda3\\lib\\site-packages\\statsmodels\\tsa\\base\\tsa_model.py:580: ValueWarning: No supported index is available. Prediction results will be given with an integer index beginning at `start`.\n",
      "  warnings.warn('No supported index is available.'\n"
     ]
    },
    {
     "data": {
      "image/png": "[encoded data removed]",
      "text/plain": [
       "<Figure size 432x288 with 1 Axes>"
      ]
     },
     "execution_count": 29,
     "metadata": {},
     "output_type": "execute_result"
    },
    {
     "data": {
      "image/png": "[encoded data removed]",
      "text/plain": [
       "<Figure size 432x288 with 1 Axes>"
      ]
     },
     "metadata": {
      "needs_background": "light"
     },
     "output_type": "display_data"
    }
   ],
   "source": [
    "#Forecasting next 12 days\n",
    "forecast_out=model_fit.forecast(steps=12)[0]\n",
    "model_fit.plot_predict(0,46)"
   ]
  },
  {
   "cell_type": "code",
   "execution_count": 30,
   "metadata": {},
   "outputs": [
    {
     "data": {
      "text/plain": [
       "[<matplotlib.lines.Line2D at 0x17d69f194f0>]"
      ]
     },
     "execution_count": 30,
     "metadata": {},
     "output_type": "execute_result"
    },
    {
     "data": {
      "image/png": "[encoded data removed]",
      "text/plain": [
       "<Figure size 432x288 with 1 Axes>"
      ]
     },
     "metadata": {
      "needs_background": "light"
     },
     "output_type": "display_data"
    }
   ],
   "source": [
    "#Ploting only 12 Days forecasted records\n",
    "plt.plot(forecast_out, color =\"red\") "
   ]
  },
  {
   "cell_type": "code",
   "execution_count": 31,
   "metadata": {},
   "outputs": [
    {
     "name": "stderr",
     "output_type": "stream",
     "text": [
      "<ipython-input-31-39bdccd8e66f>:1: SettingWithCopyWarning: \n",
      "A value is trying to be set on a copy of a slice from a DataFrame.\n",
      "Try using .loc[row_indexer,col_indexer] = value instead\n",
      "\n",
      "See the caveats in the documentation: https://pandas.pydata.org/pandas-docs/stable/user_guide/indexing.html#returning-a-view-versus-a-copy\n",
      "  df_new['Predicted (In Sample)']=model_fit.predict()\n"
     ]
    }
   ],
   "source": [
    "df_new['Predicted (In Sample)']=model_fit.predict()"
   ]
  },
  {
   "cell_type": "code",
   "execution_count": 32,
   "metadata": {},
   "outputs": [
    {
     "data": {
      "text/plain": [
       "pandas.core.indexes.datetimes.DatetimeIndex"
      ]
     },
     "execution_count": 32,
     "metadata": {},
     "output_type": "execute_result"
    }
   ],
   "source": [
    "index = pd.date_range(start='18-04-19',periods=12, freq='MS')+pd.DateOffset(18)\n",
    "intr1 = pd.to_datetime(index)\n",
    "type(intr1)"
   ]
  },
  {
   "cell_type": "code",
   "execution_count": 33,
   "metadata": {},
   "outputs": [
    {
     "data": {
      "text/html": [
       "<div>\n",
       "<style scoped>\n",
       "    .dataframe tbody tr th:only-of-type {\n",
       "        vertical-align: middle;\n",
       "    }\n",
       "\n",
       "    .dataframe tbody tr th {\n",
       "        vertical-align: top;\n",
       "    }\n",
       "\n",
       "    .dataframe thead th {\n",
       "        text-align: right;\n",
       "    }\n",
       "</style>\n",
       "<table border=\"1\" class=\"dataframe\">\n",
       "  <thead>\n",
       "    <tr style=\"text-align: right;\">\n",
       "      <th></th>\n",
       "      <th>Forecast(Out Sample)</th>\n",
       "    </tr>\n",
       "  </thead>\n",
       "  <tbody>\n",
       "    <tr>\n",
       "      <th>May19</th>\n",
       "      <td>15.746637</td>\n",
       "    </tr>\n",
       "    <tr>\n",
       "      <th>Jun19</th>\n",
       "      <td>15.559201</td>\n",
       "    </tr>\n",
       "    <tr>\n",
       "      <th>Jul19</th>\n",
       "      <td>15.640129</td>\n",
       "    </tr>\n",
       "    <tr>\n",
       "      <th>Aug19</th>\n",
       "      <td>15.631928</td>\n",
       "    </tr>\n",
       "    <tr>\n",
       "      <th>Sep19</th>\n",
       "      <td>15.548908</td>\n",
       "    </tr>\n",
       "    <tr>\n",
       "      <th>Oct19</th>\n",
       "      <td>15.627774</td>\n",
       "    </tr>\n",
       "    <tr>\n",
       "      <th>Nov19</th>\n",
       "      <td>15.856767</td>\n",
       "    </tr>\n",
       "    <tr>\n",
       "      <th>Dec19</th>\n",
       "      <td>16.045985</td>\n",
       "    </tr>\n",
       "    <tr>\n",
       "      <th>Jan20</th>\n",
       "      <td>15.936555</td>\n",
       "    </tr>\n",
       "    <tr>\n",
       "      <th>Feb20</th>\n",
       "      <td>16.077477</td>\n",
       "    </tr>\n",
       "    <tr>\n",
       "      <th>Mar20</th>\n",
       "      <td>15.902336</td>\n",
       "    </tr>\n",
       "    <tr>\n",
       "      <th>Apr20</th>\n",
       "      <td>15.781063</td>\n",
       "    </tr>\n",
       "  </tbody>\n",
       "</table>\n",
       "</div>"
      ],
      "text/plain": [
       "       Forecast(Out Sample)\n",
       "May19             15.746637\n",
       "Jun19             15.559201\n",
       "Jul19             15.640129\n",
       "Aug19             15.631928\n",
       "Sep19             15.548908\n",
       "Oct19             15.627774\n",
       "Nov19             15.856767\n",
       "Dec19             16.045985\n",
       "Jan20             15.936555\n",
       "Feb20             16.077477\n",
       "Mar20             15.902336\n",
       "Apr20             15.781063"
      ]
     },
     "execution_count": 33,
     "metadata": {},
     "output_type": "execute_result"
    }
   ],
   "source": [
    "forecast2 = pd.DataFrame(forecast_out,columns=['Forecast(Out Sample)'],index = intr1.strftime(\"%b%y\"))\n",
    "forecast2"
   ]
  },
  {
   "cell_type": "code",
   "execution_count": 34,
   "metadata": {},
   "outputs": [
    {
     "data": {
      "text/html": [
       "<div>\n",
       "<style scoped>\n",
       "    .dataframe tbody tr th:only-of-type {\n",
       "        vertical-align: middle;\n",
       "    }\n",
       "\n",
       "    .dataframe tbody tr th {\n",
       "        vertical-align: top;\n",
       "    }\n",
       "\n",
       "    .dataframe thead th {\n",
       "        text-align: right;\n",
       "    }\n",
       "</style>\n",
       "<table border=\"1\" class=\"dataframe\">\n",
       "  <thead>\n",
       "    <tr style=\"text-align: right;\">\n",
       "      <th></th>\n",
       "      <th>log.amt</th>\n",
       "      <th>Predicted (In Sample)</th>\n",
       "      <th>Forecast(Out Sample)</th>\n",
       "    </tr>\n",
       "  </thead>\n",
       "  <tbody>\n",
       "    <tr>\n",
       "      <th>May15</th>\n",
       "      <td>15.404745</td>\n",
       "      <td>15.787946</td>\n",
       "      <td>NaN</td>\n",
       "    </tr>\n",
       "    <tr>\n",
       "      <th>Jun15</th>\n",
       "      <td>15.433964</td>\n",
       "      <td>15.684865</td>\n",
       "      <td>NaN</td>\n",
       "    </tr>\n",
       "    <tr>\n",
       "      <th>Jul15</th>\n",
       "      <td>15.448565</td>\n",
       "      <td>15.667283</td>\n",
       "      <td>NaN</td>\n",
       "    </tr>\n",
       "    <tr>\n",
       "      <th>Aug15</th>\n",
       "      <td>15.835806</td>\n",
       "      <td>15.683099</td>\n",
       "      <td>NaN</td>\n",
       "    </tr>\n",
       "    <tr>\n",
       "      <th>Sep15</th>\n",
       "      <td>15.780010</td>\n",
       "      <td>15.874993</td>\n",
       "      <td>NaN</td>\n",
       "    </tr>\n",
       "  </tbody>\n",
       "</table>\n",
       "</div>"
      ],
      "text/plain": [
       "         log.amt  Predicted (In Sample)  Forecast(Out Sample)\n",
       "May15  15.404745              15.787946                   NaN\n",
       "Jun15  15.433964              15.684865                   NaN\n",
       "Jul15  15.448565              15.667283                   NaN\n",
       "Aug15  15.835806              15.683099                   NaN\n",
       "Sep15  15.780010              15.874993                   NaN"
      ]
     },
     "execution_count": 34,
     "metadata": {},
     "output_type": "execute_result"
    }
   ],
   "source": [
    "data =df_new.append(forecast2)\n",
    "data.head()"
   ]
  },
  {
   "cell_type": "code",
   "execution_count": 35,
   "metadata": {},
   "outputs": [
    {
     "data": {
      "text/plain": [
       "Text(0, 0.5, 'Amount')"
      ]
     },
     "execution_count": 35,
     "metadata": {},
     "output_type": "execute_result"
    },
    {
     "data": {
      "image/png": "[encoded data removed]",
      "text/plain": [
       "<Figure size 1080x576 with 1 Axes>"
      ]
     },
     "metadata": {
      "needs_background": "light"
     },
     "output_type": "display_data"
    }
   ],
   "source": [
    "data[['log.amt','Predicted (In Sample)','Forecast(Out Sample)']].plot(figsize=(15,8),style ='-',use_index=True,title='Forecasting Final Model',colormap='jet_r')\n",
    "plt.xlabel('Time')\n",
    "plt.ylabel('Amount')\n"
   ]
  },
  {
   "cell_type": "code",
   "execution_count": 36,
   "metadata": {},
   "outputs": [
    {
     "name": "stdout",
     "output_type": "stream",
     "text": [
      "[15.74663743 15.55920114 15.64012866 15.63192835 15.54890803 15.62777373\n",
      " 15.85676683 16.04598472 15.93655515 16.07747714 15.90233596 15.78106272]\n"
     ]
    }
   ],
   "source": [
    "#12 Forecasted values\n",
    "print(forecast_out)"
   ]
  },
  {
   "cell_type": "code",
   "execution_count": 37,
   "metadata": {},
   "outputs": [
    {
     "data": {
      "text/html": [
       "<div>\n",
       "<style scoped>\n",
       "    .dataframe tbody tr th:only-of-type {\n",
       "        vertical-align: middle;\n",
       "    }\n",
       "\n",
       "    .dataframe tbody tr th {\n",
       "        vertical-align: top;\n",
       "    }\n",
       "\n",
       "    .dataframe thead th {\n",
       "        text-align: right;\n",
       "    }\n",
       "</style>\n",
       "<table border=\"1\" class=\"dataframe\">\n",
       "  <thead>\n",
       "    <tr style=\"text-align: right;\">\n",
       "      <th></th>\n",
       "      <th>log.amt</th>\n",
       "      <th>Predicted (In Sample)</th>\n",
       "      <th>Forecast(Out Sample)</th>\n",
       "    </tr>\n",
       "  </thead>\n",
       "  <tbody>\n",
       "    <tr>\n",
       "      <th>May15</th>\n",
       "      <td>15.404745</td>\n",
       "      <td>15.787946</td>\n",
       "      <td>NaN</td>\n",
       "    </tr>\n",
       "    <tr>\n",
       "      <th>Jun15</th>\n",
       "      <td>15.433964</td>\n",
       "      <td>15.684865</td>\n",
       "      <td>NaN</td>\n",
       "    </tr>\n",
       "    <tr>\n",
       "      <th>Jul15</th>\n",
       "      <td>15.448565</td>\n",
       "      <td>15.667283</td>\n",
       "      <td>NaN</td>\n",
       "    </tr>\n",
       "    <tr>\n",
       "      <th>Aug15</th>\n",
       "      <td>15.835806</td>\n",
       "      <td>15.683099</td>\n",
       "      <td>NaN</td>\n",
       "    </tr>\n",
       "    <tr>\n",
       "      <th>Sep15</th>\n",
       "      <td>15.780010</td>\n",
       "      <td>15.874993</td>\n",
       "      <td>NaN</td>\n",
       "    </tr>\n",
       "  </tbody>\n",
       "</table>\n",
       "</div>"
      ],
      "text/plain": [
       "         log.amt  Predicted (In Sample)  Forecast(Out Sample)\n",
       "May15  15.404745              15.787946                   NaN\n",
       "Jun15  15.433964              15.684865                   NaN\n",
       "Jul15  15.448565              15.667283                   NaN\n",
       "Aug15  15.835806              15.683099                   NaN\n",
       "Sep15  15.780010              15.874993                   NaN"
      ]
     },
     "execution_count": 37,
     "metadata": {},
     "output_type": "execute_result"
    }
   ],
   "source": [
    "data.head()\n"
   ]
  },
  {
   "cell_type": "code",
   "execution_count": 38,
   "metadata": {},
   "outputs": [
    {
     "data": {
      "text/html": [
       "<div>\n",
       "<style scoped>\n",
       "    .dataframe tbody tr th:only-of-type {\n",
       "        vertical-align: middle;\n",
       "    }\n",
       "\n",
       "    .dataframe tbody tr th {\n",
       "        vertical-align: top;\n",
       "    }\n",
       "\n",
       "    .dataframe thead th {\n",
       "        text-align: right;\n",
       "    }\n",
       "</style>\n",
       "<table border=\"1\" class=\"dataframe\">\n",
       "  <thead>\n",
       "    <tr style=\"text-align: right;\">\n",
       "      <th></th>\n",
       "      <th>log.amt</th>\n",
       "      <th>Predicted (In Sample)</th>\n",
       "      <th>Forecast(Out Sample)</th>\n",
       "    </tr>\n",
       "  </thead>\n",
       "  <tbody>\n",
       "    <tr>\n",
       "      <th>Dec19</th>\n",
       "      <td>NaN</td>\n",
       "      <td>NaN</td>\n",
       "      <td>16.045985</td>\n",
       "    </tr>\n",
       "    <tr>\n",
       "      <th>Jan20</th>\n",
       "      <td>NaN</td>\n",
       "      <td>NaN</td>\n",
       "      <td>15.936555</td>\n",
       "    </tr>\n",
       "    <tr>\n",
       "      <th>Feb20</th>\n",
       "      <td>NaN</td>\n",
       "      <td>NaN</td>\n",
       "      <td>16.077477</td>\n",
       "    </tr>\n",
       "    <tr>\n",
       "      <th>Mar20</th>\n",
       "      <td>NaN</td>\n",
       "      <td>NaN</td>\n",
       "      <td>15.902336</td>\n",
       "    </tr>\n",
       "    <tr>\n",
       "      <th>Apr20</th>\n",
       "      <td>NaN</td>\n",
       "      <td>NaN</td>\n",
       "      <td>15.781063</td>\n",
       "    </tr>\n",
       "  </tbody>\n",
       "</table>\n",
       "</div>"
      ],
      "text/plain": [
       "       log.amt  Predicted (In Sample)  Forecast(Out Sample)\n",
       "Dec19      NaN                    NaN             16.045985\n",
       "Jan20      NaN                    NaN             15.936555\n",
       "Feb20      NaN                    NaN             16.077477\n",
       "Mar20      NaN                    NaN             15.902336\n",
       "Apr20      NaN                    NaN             15.781063"
      ]
     },
     "execution_count": 38,
     "metadata": {},
     "output_type": "execute_result"
    }
   ],
   "source": [
    "data.tail()"
   ]
  },
  {
   "cell_type": "code",
   "execution_count": null,
   "metadata": {},
   "outputs": [],
   "source": []
  }
 ],
 "metadata": {
  "kernelspec": {
   "display_name": "Python 3",
   "language": "python",
   "name": "python3"
  },
  "language_info": {
   "codemirror_mode": {
    "name": "ipython",
    "version": 3
   },
   "file_extension": ".py",
   "mimetype": "text/x-python",
   "name": "python",
   "nbconvert_exporter": "python",
   "pygments_lexer": "ipython3",
   "version": "3.8.3"
  }
 },
 "nbformat": 4,
 "nbformat_minor": 4
}
